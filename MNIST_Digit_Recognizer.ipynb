{
  "nbformat": 4,
  "nbformat_minor": 0,
  "metadata": {
    "colab": {
      "provenance": []
    },
    "kernelspec": {
      "name": "python3",
      "display_name": "Python 3"
    },
    "language_info": {
      "name": "python"
    },
    "accelerator": "TPU"
  },
  "cells": [
    {
      "cell_type": "markdown",
      "source": [
        "##Introduction to the Project"
      ],
      "metadata": {
        "id": "j6497MW6n7a5"
      }
    },
    {
      "cell_type": "markdown",
      "source": [
        "###**About the Project**"
      ],
      "metadata": {
        "id": "dXcnA5Ghn7YT"
      }
    },
    {
      "cell_type": "markdown",
      "source": [
        "This is a 5 layers Sequential Convolutional Neural Network for digits recognition trained on MNIST dataset. The goal is to correctly identify digits from a dataset of tens of thousands of handwritten images. I chose to build it with keras API (Tensorflow backend) which is very intuitive. Firstly, I will prepare the data (handwritten digits images) then i will focus on the CNN modeling and evaluation."
      ],
      "metadata": {
        "id": "XKkiZ-2fn7Vx"
      }
    },
    {
      "cell_type": "markdown",
      "source": [
        "**For computational reasons, i set the number of steps (epochs) to 3**"
      ],
      "metadata": {
        "id": "8-lEHdsDn7TE"
      }
    },
    {
      "cell_type": "markdown",
      "source": [
        "###**About the Dataset**"
      ],
      "metadata": {
        "id": "jywVwJ8op7v7"
      }
    },
    {
      "cell_type": "markdown",
      "source": [
        "MNIST (\"Modified National Institute of Standards and Technology\") is the de facto “hello world” dataset of computer vision. Since its release in 1999, this classic dataset of handwritten images has served as the basis for benchmarking classification algorithms. A new machine learning techniques emerge, MNIST remains a reliable resource for researchers and learners alike."
      ],
      "metadata": {
        "id": "PF1zgI-ln7Qa"
      }
    },
    {
      "cell_type": "markdown",
      "source": [
        "##Setup"
      ],
      "metadata": {
        "id": "Rv3bAV4fqE2o"
      }
    },
    {
      "cell_type": "markdown",
      "source": [
        "Importing all the necessary libraries"
      ],
      "metadata": {
        "id": "TlQ52ewgqGrk"
      }
    },
    {
      "cell_type": "code",
      "execution_count": 1,
      "metadata": {
        "id": "7z-JGr4Cn2FV"
      },
      "outputs": [],
      "source": [
        "import pandas as pd\n",
        "import numpy as np\n",
        "import matplotlib.pyplot as plt\n",
        "import matplotlib.image as mpimg\n",
        "import seaborn as sns\n",
        "%matplotlib inline\n",
        "from sklearn.model_selection import train_test_split\n",
        "from sklearn.metrics import confusion_matrix\n",
        "from sklearn.datasets import fetch_openml\n",
        "import itertools\n",
        "from keras.utils.np_utils import to_categorical # convert to one-hot-encoding\n",
        "from keras.models import Sequential\n",
        "from keras.layers import Dense, Dropout, Flatten, Conv2D, MaxPool2D #Convolution Layers\n",
        "from keras.optimizers import RMSprop #Optimiser\n",
        "from keras.preprocessing.image import ImageDataGenerator\n",
        "from keras.callbacks import ReduceLROnPlateau"
      ]
    },
    {
      "cell_type": "markdown",
      "source": [
        "Additional configurations"
      ],
      "metadata": {
        "id": "K7HW34ATqdfO"
      }
    },
    {
      "cell_type": "code",
      "source": [
        "np.random.seed(2)\n",
        "sns.set(style='white', context='notebook', palette='deep')"
      ],
      "metadata": {
        "id": "UC0i-v-kqa9K"
      },
      "execution_count": 2,
      "outputs": []
    },
    {
      "cell_type": "markdown",
      "source": [
        "We will be using TensorFlow as backend."
      ],
      "metadata": {
        "id": "FhqltCcNtNET"
      }
    },
    {
      "cell_type": "markdown",
      "source": [
        "##Data Preparation"
      ],
      "metadata": {
        "id": "7M4M67VCtStB"
      }
    },
    {
      "cell_type": "markdown",
      "source": [
        "###**Loading the Data**"
      ],
      "metadata": {
        "id": "nP_Q-TdbtUvN"
      }
    },
    {
      "cell_type": "code",
      "source": [
        "train = pd.read_csv(\"train.csv\")\n",
        "test = pd.read_csv(\"test.csv\")"
      ],
      "metadata": {
        "id": "y_mWF-DNtbCi"
      },
      "execution_count": 13,
      "outputs": []
    },
    {
      "cell_type": "code",
      "source": [
        "Y_train = train[\"label\"]\n",
        "Y_train"
      ],
      "metadata": {
        "colab": {
          "base_uri": "https://localhost:8080/"
        },
        "id": "LA48aOekuZNW",
        "outputId": "499d9d00-a30b-4c01-e34c-507fce503b70"
      },
      "execution_count": 14,
      "outputs": [
        {
          "output_type": "execute_result",
          "data": {
            "text/plain": [
              "0        1\n",
              "1        0\n",
              "2        1\n",
              "3        4\n",
              "4        0\n",
              "        ..\n",
              "41995    0\n",
              "41996    1\n",
              "41997    7\n",
              "41998    6\n",
              "41999    9\n",
              "Name: label, Length: 42000, dtype: int64"
            ]
          },
          "metadata": {},
          "execution_count": 14
        }
      ]
    },
    {
      "cell_type": "code",
      "source": [
        "X_train = train.drop(labels = [\"label\"],axis = 1)\n",
        "X_train"
      ],
      "metadata": {
        "colab": {
          "base_uri": "https://localhost:8080/",
          "height": 444
        },
        "id": "FLLoh4I3ucFy",
        "outputId": "abbbdeac-cecf-4430-a211-58f5ce32d4cd"
      },
      "execution_count": 15,
      "outputs": [
        {
          "output_type": "execute_result",
          "data": {
            "text/plain": [
              "       pixel0  pixel1  pixel2  pixel3  pixel4  pixel5  pixel6  pixel7  pixel8  \\\n",
              "0           0       0       0       0       0       0       0       0       0   \n",
              "1           0       0       0       0       0       0       0       0       0   \n",
              "2           0       0       0       0       0       0       0       0       0   \n",
              "3           0       0       0       0       0       0       0       0       0   \n",
              "4           0       0       0       0       0       0       0       0       0   \n",
              "...       ...     ...     ...     ...     ...     ...     ...     ...     ...   \n",
              "41995       0       0       0       0       0       0       0       0       0   \n",
              "41996       0       0       0       0       0       0       0       0       0   \n",
              "41997       0       0       0       0       0       0       0       0       0   \n",
              "41998       0       0       0       0       0       0       0       0       0   \n",
              "41999       0       0       0       0       0       0       0       0       0   \n",
              "\n",
              "       pixel9  ...  pixel774  pixel775  pixel776  pixel777  pixel778  \\\n",
              "0           0  ...         0         0         0         0         0   \n",
              "1           0  ...         0         0         0         0         0   \n",
              "2           0  ...         0         0         0         0         0   \n",
              "3           0  ...         0         0         0         0         0   \n",
              "4           0  ...         0         0         0         0         0   \n",
              "...       ...  ...       ...       ...       ...       ...       ...   \n",
              "41995       0  ...         0         0         0         0         0   \n",
              "41996       0  ...         0         0         0         0         0   \n",
              "41997       0  ...         0         0         0         0         0   \n",
              "41998       0  ...         0         0         0         0         0   \n",
              "41999       0  ...         0         0         0         0         0   \n",
              "\n",
              "       pixel779  pixel780  pixel781  pixel782  pixel783  \n",
              "0             0         0         0         0         0  \n",
              "1             0         0         0         0         0  \n",
              "2             0         0         0         0         0  \n",
              "3             0         0         0         0         0  \n",
              "4             0         0         0         0         0  \n",
              "...         ...       ...       ...       ...       ...  \n",
              "41995         0         0         0         0         0  \n",
              "41996         0         0         0         0         0  \n",
              "41997         0         0         0         0         0  \n",
              "41998         0         0         0         0         0  \n",
              "41999         0         0         0         0         0  \n",
              "\n",
              "[42000 rows x 784 columns]"
            ],
            "text/html": [
              "\n",
              "  <div id=\"df-e61548bb-91f2-4d22-abde-d311741f0d64\" class=\"colab-df-container\">\n",
              "    <div>\n",
              "<style scoped>\n",
              "    .dataframe tbody tr th:only-of-type {\n",
              "        vertical-align: middle;\n",
              "    }\n",
              "\n",
              "    .dataframe tbody tr th {\n",
              "        vertical-align: top;\n",
              "    }\n",
              "\n",
              "    .dataframe thead th {\n",
              "        text-align: right;\n",
              "    }\n",
              "</style>\n",
              "<table border=\"1\" class=\"dataframe\">\n",
              "  <thead>\n",
              "    <tr style=\"text-align: right;\">\n",
              "      <th></th>\n",
              "      <th>pixel0</th>\n",
              "      <th>pixel1</th>\n",
              "      <th>pixel2</th>\n",
              "      <th>pixel3</th>\n",
              "      <th>pixel4</th>\n",
              "      <th>pixel5</th>\n",
              "      <th>pixel6</th>\n",
              "      <th>pixel7</th>\n",
              "      <th>pixel8</th>\n",
              "      <th>pixel9</th>\n",
              "      <th>...</th>\n",
              "      <th>pixel774</th>\n",
              "      <th>pixel775</th>\n",
              "      <th>pixel776</th>\n",
              "      <th>pixel777</th>\n",
              "      <th>pixel778</th>\n",
              "      <th>pixel779</th>\n",
              "      <th>pixel780</th>\n",
              "      <th>pixel781</th>\n",
              "      <th>pixel782</th>\n",
              "      <th>pixel783</th>\n",
              "    </tr>\n",
              "  </thead>\n",
              "  <tbody>\n",
              "    <tr>\n",
              "      <th>0</th>\n",
              "      <td>0</td>\n",
              "      <td>0</td>\n",
              "      <td>0</td>\n",
              "      <td>0</td>\n",
              "      <td>0</td>\n",
              "      <td>0</td>\n",
              "      <td>0</td>\n",
              "      <td>0</td>\n",
              "      <td>0</td>\n",
              "      <td>0</td>\n",
              "      <td>...</td>\n",
              "      <td>0</td>\n",
              "      <td>0</td>\n",
              "      <td>0</td>\n",
              "      <td>0</td>\n",
              "      <td>0</td>\n",
              "      <td>0</td>\n",
              "      <td>0</td>\n",
              "      <td>0</td>\n",
              "      <td>0</td>\n",
              "      <td>0</td>\n",
              "    </tr>\n",
              "    <tr>\n",
              "      <th>1</th>\n",
              "      <td>0</td>\n",
              "      <td>0</td>\n",
              "      <td>0</td>\n",
              "      <td>0</td>\n",
              "      <td>0</td>\n",
              "      <td>0</td>\n",
              "      <td>0</td>\n",
              "      <td>0</td>\n",
              "      <td>0</td>\n",
              "      <td>0</td>\n",
              "      <td>...</td>\n",
              "      <td>0</td>\n",
              "      <td>0</td>\n",
              "      <td>0</td>\n",
              "      <td>0</td>\n",
              "      <td>0</td>\n",
              "      <td>0</td>\n",
              "      <td>0</td>\n",
              "      <td>0</td>\n",
              "      <td>0</td>\n",
              "      <td>0</td>\n",
              "    </tr>\n",
              "    <tr>\n",
              "      <th>2</th>\n",
              "      <td>0</td>\n",
              "      <td>0</td>\n",
              "      <td>0</td>\n",
              "      <td>0</td>\n",
              "      <td>0</td>\n",
              "      <td>0</td>\n",
              "      <td>0</td>\n",
              "      <td>0</td>\n",
              "      <td>0</td>\n",
              "      <td>0</td>\n",
              "      <td>...</td>\n",
              "      <td>0</td>\n",
              "      <td>0</td>\n",
              "      <td>0</td>\n",
              "      <td>0</td>\n",
              "      <td>0</td>\n",
              "      <td>0</td>\n",
              "      <td>0</td>\n",
              "      <td>0</td>\n",
              "      <td>0</td>\n",
              "      <td>0</td>\n",
              "    </tr>\n",
              "    <tr>\n",
              "      <th>3</th>\n",
              "      <td>0</td>\n",
              "      <td>0</td>\n",
              "      <td>0</td>\n",
              "      <td>0</td>\n",
              "      <td>0</td>\n",
              "      <td>0</td>\n",
              "      <td>0</td>\n",
              "      <td>0</td>\n",
              "      <td>0</td>\n",
              "      <td>0</td>\n",
              "      <td>...</td>\n",
              "      <td>0</td>\n",
              "      <td>0</td>\n",
              "      <td>0</td>\n",
              "      <td>0</td>\n",
              "      <td>0</td>\n",
              "      <td>0</td>\n",
              "      <td>0</td>\n",
              "      <td>0</td>\n",
              "      <td>0</td>\n",
              "      <td>0</td>\n",
              "    </tr>\n",
              "    <tr>\n",
              "      <th>4</th>\n",
              "      <td>0</td>\n",
              "      <td>0</td>\n",
              "      <td>0</td>\n",
              "      <td>0</td>\n",
              "      <td>0</td>\n",
              "      <td>0</td>\n",
              "      <td>0</td>\n",
              "      <td>0</td>\n",
              "      <td>0</td>\n",
              "      <td>0</td>\n",
              "      <td>...</td>\n",
              "      <td>0</td>\n",
              "      <td>0</td>\n",
              "      <td>0</td>\n",
              "      <td>0</td>\n",
              "      <td>0</td>\n",
              "      <td>0</td>\n",
              "      <td>0</td>\n",
              "      <td>0</td>\n",
              "      <td>0</td>\n",
              "      <td>0</td>\n",
              "    </tr>\n",
              "    <tr>\n",
              "      <th>...</th>\n",
              "      <td>...</td>\n",
              "      <td>...</td>\n",
              "      <td>...</td>\n",
              "      <td>...</td>\n",
              "      <td>...</td>\n",
              "      <td>...</td>\n",
              "      <td>...</td>\n",
              "      <td>...</td>\n",
              "      <td>...</td>\n",
              "      <td>...</td>\n",
              "      <td>...</td>\n",
              "      <td>...</td>\n",
              "      <td>...</td>\n",
              "      <td>...</td>\n",
              "      <td>...</td>\n",
              "      <td>...</td>\n",
              "      <td>...</td>\n",
              "      <td>...</td>\n",
              "      <td>...</td>\n",
              "      <td>...</td>\n",
              "      <td>...</td>\n",
              "    </tr>\n",
              "    <tr>\n",
              "      <th>41995</th>\n",
              "      <td>0</td>\n",
              "      <td>0</td>\n",
              "      <td>0</td>\n",
              "      <td>0</td>\n",
              "      <td>0</td>\n",
              "      <td>0</td>\n",
              "      <td>0</td>\n",
              "      <td>0</td>\n",
              "      <td>0</td>\n",
              "      <td>0</td>\n",
              "      <td>...</td>\n",
              "      <td>0</td>\n",
              "      <td>0</td>\n",
              "      <td>0</td>\n",
              "      <td>0</td>\n",
              "      <td>0</td>\n",
              "      <td>0</td>\n",
              "      <td>0</td>\n",
              "      <td>0</td>\n",
              "      <td>0</td>\n",
              "      <td>0</td>\n",
              "    </tr>\n",
              "    <tr>\n",
              "      <th>41996</th>\n",
              "      <td>0</td>\n",
              "      <td>0</td>\n",
              "      <td>0</td>\n",
              "      <td>0</td>\n",
              "      <td>0</td>\n",
              "      <td>0</td>\n",
              "      <td>0</td>\n",
              "      <td>0</td>\n",
              "      <td>0</td>\n",
              "      <td>0</td>\n",
              "      <td>...</td>\n",
              "      <td>0</td>\n",
              "      <td>0</td>\n",
              "      <td>0</td>\n",
              "      <td>0</td>\n",
              "      <td>0</td>\n",
              "      <td>0</td>\n",
              "      <td>0</td>\n",
              "      <td>0</td>\n",
              "      <td>0</td>\n",
              "      <td>0</td>\n",
              "    </tr>\n",
              "    <tr>\n",
              "      <th>41997</th>\n",
              "      <td>0</td>\n",
              "      <td>0</td>\n",
              "      <td>0</td>\n",
              "      <td>0</td>\n",
              "      <td>0</td>\n",
              "      <td>0</td>\n",
              "      <td>0</td>\n",
              "      <td>0</td>\n",
              "      <td>0</td>\n",
              "      <td>0</td>\n",
              "      <td>...</td>\n",
              "      <td>0</td>\n",
              "      <td>0</td>\n",
              "      <td>0</td>\n",
              "      <td>0</td>\n",
              "      <td>0</td>\n",
              "      <td>0</td>\n",
              "      <td>0</td>\n",
              "      <td>0</td>\n",
              "      <td>0</td>\n",
              "      <td>0</td>\n",
              "    </tr>\n",
              "    <tr>\n",
              "      <th>41998</th>\n",
              "      <td>0</td>\n",
              "      <td>0</td>\n",
              "      <td>0</td>\n",
              "      <td>0</td>\n",
              "      <td>0</td>\n",
              "      <td>0</td>\n",
              "      <td>0</td>\n",
              "      <td>0</td>\n",
              "      <td>0</td>\n",
              "      <td>0</td>\n",
              "      <td>...</td>\n",
              "      <td>0</td>\n",
              "      <td>0</td>\n",
              "      <td>0</td>\n",
              "      <td>0</td>\n",
              "      <td>0</td>\n",
              "      <td>0</td>\n",
              "      <td>0</td>\n",
              "      <td>0</td>\n",
              "      <td>0</td>\n",
              "      <td>0</td>\n",
              "    </tr>\n",
              "    <tr>\n",
              "      <th>41999</th>\n",
              "      <td>0</td>\n",
              "      <td>0</td>\n",
              "      <td>0</td>\n",
              "      <td>0</td>\n",
              "      <td>0</td>\n",
              "      <td>0</td>\n",
              "      <td>0</td>\n",
              "      <td>0</td>\n",
              "      <td>0</td>\n",
              "      <td>0</td>\n",
              "      <td>...</td>\n",
              "      <td>0</td>\n",
              "      <td>0</td>\n",
              "      <td>0</td>\n",
              "      <td>0</td>\n",
              "      <td>0</td>\n",
              "      <td>0</td>\n",
              "      <td>0</td>\n",
              "      <td>0</td>\n",
              "      <td>0</td>\n",
              "      <td>0</td>\n",
              "    </tr>\n",
              "  </tbody>\n",
              "</table>\n",
              "<p>42000 rows × 784 columns</p>\n",
              "</div>\n",
              "    <div class=\"colab-df-buttons\">\n",
              "\n",
              "  <div class=\"colab-df-container\">\n",
              "    <button class=\"colab-df-convert\" onclick=\"convertToInteractive('df-e61548bb-91f2-4d22-abde-d311741f0d64')\"\n",
              "            title=\"Convert this dataframe to an interactive table.\"\n",
              "            style=\"display:none;\">\n",
              "\n",
              "  <svg xmlns=\"http://www.w3.org/2000/svg\" height=\"24px\" viewBox=\"0 -960 960 960\">\n",
              "    <path d=\"M120-120v-720h720v720H120Zm60-500h600v-160H180v160Zm220 220h160v-160H400v160Zm0 220h160v-160H400v160ZM180-400h160v-160H180v160Zm440 0h160v-160H620v160ZM180-180h160v-160H180v160Zm440 0h160v-160H620v160Z\"/>\n",
              "  </svg>\n",
              "    </button>\n",
              "\n",
              "  <style>\n",
              "    .colab-df-container {\n",
              "      display:flex;\n",
              "      gap: 12px;\n",
              "    }\n",
              "\n",
              "    .colab-df-convert {\n",
              "      background-color: #E8F0FE;\n",
              "      border: none;\n",
              "      border-radius: 50%;\n",
              "      cursor: pointer;\n",
              "      display: none;\n",
              "      fill: #1967D2;\n",
              "      height: 32px;\n",
              "      padding: 0 0 0 0;\n",
              "      width: 32px;\n",
              "    }\n",
              "\n",
              "    .colab-df-convert:hover {\n",
              "      background-color: #E2EBFA;\n",
              "      box-shadow: 0px 1px 2px rgba(60, 64, 67, 0.3), 0px 1px 3px 1px rgba(60, 64, 67, 0.15);\n",
              "      fill: #174EA6;\n",
              "    }\n",
              "\n",
              "    .colab-df-buttons div {\n",
              "      margin-bottom: 4px;\n",
              "    }\n",
              "\n",
              "    [theme=dark] .colab-df-convert {\n",
              "      background-color: #3B4455;\n",
              "      fill: #D2E3FC;\n",
              "    }\n",
              "\n",
              "    [theme=dark] .colab-df-convert:hover {\n",
              "      background-color: #434B5C;\n",
              "      box-shadow: 0px 1px 3px 1px rgba(0, 0, 0, 0.15);\n",
              "      filter: drop-shadow(0px 1px 2px rgba(0, 0, 0, 0.3));\n",
              "      fill: #FFFFFF;\n",
              "    }\n",
              "  </style>\n",
              "\n",
              "    <script>\n",
              "      const buttonEl =\n",
              "        document.querySelector('#df-e61548bb-91f2-4d22-abde-d311741f0d64 button.colab-df-convert');\n",
              "      buttonEl.style.display =\n",
              "        google.colab.kernel.accessAllowed ? 'block' : 'none';\n",
              "\n",
              "      async function convertToInteractive(key) {\n",
              "        const element = document.querySelector('#df-e61548bb-91f2-4d22-abde-d311741f0d64');\n",
              "        const dataTable =\n",
              "          await google.colab.kernel.invokeFunction('convertToInteractive',\n",
              "                                                    [key], {});\n",
              "        if (!dataTable) return;\n",
              "\n",
              "        const docLinkHtml = 'Like what you see? Visit the ' +\n",
              "          '<a target=\"_blank\" href=https://colab.research.google.com/notebooks/data_table.ipynb>data table notebook</a>'\n",
              "          + ' to learn more about interactive tables.';\n",
              "        element.innerHTML = '';\n",
              "        dataTable['output_type'] = 'display_data';\n",
              "        await google.colab.output.renderOutput(dataTable, element);\n",
              "        const docLink = document.createElement('div');\n",
              "        docLink.innerHTML = docLinkHtml;\n",
              "        element.appendChild(docLink);\n",
              "      }\n",
              "    </script>\n",
              "  </div>\n",
              "\n",
              "\n",
              "<div id=\"df-161e7116-8e45-4a85-9ab2-82d59cbf6d11\">\n",
              "  <button class=\"colab-df-quickchart\" onclick=\"quickchart('df-161e7116-8e45-4a85-9ab2-82d59cbf6d11')\"\n",
              "            title=\"Suggest charts.\"\n",
              "            style=\"display:none;\">\n",
              "\n",
              "<svg xmlns=\"http://www.w3.org/2000/svg\" height=\"24px\"viewBox=\"0 0 24 24\"\n",
              "     width=\"24px\">\n",
              "    <g>\n",
              "        <path d=\"M19 3H5c-1.1 0-2 .9-2 2v14c0 1.1.9 2 2 2h14c1.1 0 2-.9 2-2V5c0-1.1-.9-2-2-2zM9 17H7v-7h2v7zm4 0h-2V7h2v10zm4 0h-2v-4h2v4z\"/>\n",
              "    </g>\n",
              "</svg>\n",
              "  </button>\n",
              "\n",
              "<style>\n",
              "  .colab-df-quickchart {\n",
              "      --bg-color: #E8F0FE;\n",
              "      --fill-color: #1967D2;\n",
              "      --hover-bg-color: #E2EBFA;\n",
              "      --hover-fill-color: #174EA6;\n",
              "      --disabled-fill-color: #AAA;\n",
              "      --disabled-bg-color: #DDD;\n",
              "  }\n",
              "\n",
              "  [theme=dark] .colab-df-quickchart {\n",
              "      --bg-color: #3B4455;\n",
              "      --fill-color: #D2E3FC;\n",
              "      --hover-bg-color: #434B5C;\n",
              "      --hover-fill-color: #FFFFFF;\n",
              "      --disabled-bg-color: #3B4455;\n",
              "      --disabled-fill-color: #666;\n",
              "  }\n",
              "\n",
              "  .colab-df-quickchart {\n",
              "    background-color: var(--bg-color);\n",
              "    border: none;\n",
              "    border-radius: 50%;\n",
              "    cursor: pointer;\n",
              "    display: none;\n",
              "    fill: var(--fill-color);\n",
              "    height: 32px;\n",
              "    padding: 0;\n",
              "    width: 32px;\n",
              "  }\n",
              "\n",
              "  .colab-df-quickchart:hover {\n",
              "    background-color: var(--hover-bg-color);\n",
              "    box-shadow: 0 1px 2px rgba(60, 64, 67, 0.3), 0 1px 3px 1px rgba(60, 64, 67, 0.15);\n",
              "    fill: var(--button-hover-fill-color);\n",
              "  }\n",
              "\n",
              "  .colab-df-quickchart-complete:disabled,\n",
              "  .colab-df-quickchart-complete:disabled:hover {\n",
              "    background-color: var(--disabled-bg-color);\n",
              "    fill: var(--disabled-fill-color);\n",
              "    box-shadow: none;\n",
              "  }\n",
              "\n",
              "  .colab-df-spinner {\n",
              "    border: 2px solid var(--fill-color);\n",
              "    border-color: transparent;\n",
              "    border-bottom-color: var(--fill-color);\n",
              "    animation:\n",
              "      spin 1s steps(1) infinite;\n",
              "  }\n",
              "\n",
              "  @keyframes spin {\n",
              "    0% {\n",
              "      border-color: transparent;\n",
              "      border-bottom-color: var(--fill-color);\n",
              "      border-left-color: var(--fill-color);\n",
              "    }\n",
              "    20% {\n",
              "      border-color: transparent;\n",
              "      border-left-color: var(--fill-color);\n",
              "      border-top-color: var(--fill-color);\n",
              "    }\n",
              "    30% {\n",
              "      border-color: transparent;\n",
              "      border-left-color: var(--fill-color);\n",
              "      border-top-color: var(--fill-color);\n",
              "      border-right-color: var(--fill-color);\n",
              "    }\n",
              "    40% {\n",
              "      border-color: transparent;\n",
              "      border-right-color: var(--fill-color);\n",
              "      border-top-color: var(--fill-color);\n",
              "    }\n",
              "    60% {\n",
              "      border-color: transparent;\n",
              "      border-right-color: var(--fill-color);\n",
              "    }\n",
              "    80% {\n",
              "      border-color: transparent;\n",
              "      border-right-color: var(--fill-color);\n",
              "      border-bottom-color: var(--fill-color);\n",
              "    }\n",
              "    90% {\n",
              "      border-color: transparent;\n",
              "      border-bottom-color: var(--fill-color);\n",
              "    }\n",
              "  }\n",
              "</style>\n",
              "\n",
              "  <script>\n",
              "    async function quickchart(key) {\n",
              "      const quickchartButtonEl =\n",
              "        document.querySelector('#' + key + ' button');\n",
              "      quickchartButtonEl.disabled = true;  // To prevent multiple clicks.\n",
              "      quickchartButtonEl.classList.add('colab-df-spinner');\n",
              "      try {\n",
              "        const charts = await google.colab.kernel.invokeFunction(\n",
              "            'suggestCharts', [key], {});\n",
              "      } catch (error) {\n",
              "        console.error('Error during call to suggestCharts:', error);\n",
              "      }\n",
              "      quickchartButtonEl.classList.remove('colab-df-spinner');\n",
              "      quickchartButtonEl.classList.add('colab-df-quickchart-complete');\n",
              "    }\n",
              "    (() => {\n",
              "      let quickchartButtonEl =\n",
              "        document.querySelector('#df-161e7116-8e45-4a85-9ab2-82d59cbf6d11 button');\n",
              "      quickchartButtonEl.style.display =\n",
              "        google.colab.kernel.accessAllowed ? 'block' : 'none';\n",
              "    })();\n",
              "  </script>\n",
              "</div>\n",
              "    </div>\n",
              "  </div>\n"
            ]
          },
          "metadata": {},
          "execution_count": 15
        }
      ]
    },
    {
      "cell_type": "code",
      "source": [
        "#function to print the digit\n",
        "def plot_digit(image_data):\n",
        "    image = image_data.reshape(28, 28)\n",
        "    plt.imshow(image, cmap=\"binary\")\n",
        "    plt.axis(\"off\")"
      ],
      "metadata": {
        "id": "RRTmkDrJu27P"
      },
      "execution_count": 24,
      "outputs": []
    },
    {
      "cell_type": "code",
      "source": [
        "X=X_train[:50].to_numpy()\n",
        "X"
      ],
      "metadata": {
        "colab": {
          "base_uri": "https://localhost:8080/"
        },
        "id": "z-ankxbQH4Su",
        "outputId": "9515073c-7605-465b-8e76-26992c9dccd5"
      },
      "execution_count": 23,
      "outputs": [
        {
          "output_type": "execute_result",
          "data": {
            "text/plain": [
              "array([[0, 0, 0, ..., 0, 0, 0],\n",
              "       [0, 0, 0, ..., 0, 0, 0],\n",
              "       [0, 0, 0, ..., 0, 0, 0],\n",
              "       ...,\n",
              "       [0, 0, 0, ..., 0, 0, 0],\n",
              "       [0, 0, 0, ..., 0, 0, 0],\n",
              "       [0, 0, 0, ..., 0, 0, 0]])"
            ]
          },
          "metadata": {},
          "execution_count": 23
        }
      ]
    },
    {
      "cell_type": "code",
      "source": [
        "#looking at first 50 digits\n",
        "plt.figure(figsize=(9, 9))\n",
        "for idx, image_data in enumerate(X[:50]):\n",
        "    plt.subplot(10, 5, idx + 1)\n",
        "    plot_digit(image_data)\n",
        "plt.subplots_adjust(wspace=0, hspace=0)\n",
        "plt.show()"
      ],
      "metadata": {
        "colab": {
          "base_uri": "https://localhost:8080/",
          "height": 729
        },
        "id": "zZoB1QiRuvpB",
        "outputId": "d4ecb374-1cd3-4880-8001-425155fc483b"
      },
      "execution_count": 25,
      "outputs": [
        {
          "output_type": "display_data",
          "data": {
            "text/plain": [
              "<Figure size 900x900 with 50 Axes>"
            ],
            "image/png": "[encoded data removed]"
          },
          "metadata": {}
        }
      ]
    },
    {
      "cell_type": "markdown",
      "source": [
        "Here we will consider 42000 images for training and the remaining 28000 for testing"
      ],
      "metadata": {
        "id": "KgC6SOPZt76q"
      }
    },
    {
      "cell_type": "markdown",
      "source": [
        "Plotting to see the distribution of data"
      ],
      "metadata": {
        "id": "goqKvwOovdgC"
      }
    },
    {
      "cell_type": "code",
      "source": [
        "yt=pd.DataFrame({'label': Y_train[:]})\n",
        "yt"
      ],
      "metadata": {
        "colab": {
          "base_uri": "https://localhost:8080/",
          "height": 424
        },
        "id": "5XYDgTEpJaN8",
        "outputId": "6961e8f8-5b4b-4b30-8496-cf27a43531b8"
      },
      "execution_count": 33,
      "outputs": [
        {
          "output_type": "execute_result",
          "data": {
            "text/plain": [
              "       label\n",
              "0          1\n",
              "1          0\n",
              "2          1\n",
              "3          4\n",
              "4          0\n",
              "...      ...\n",
              "41995      0\n",
              "41996      1\n",
              "41997      7\n",
              "41998      6\n",
              "41999      9\n",
              "\n",
              "[42000 rows x 1 columns]"
            ],
            "text/html": [
              "\n",
              "  <div id=\"df-a2d8df01-db6c-48e9-92e3-b1b1015ef3c3\" class=\"colab-df-container\">\n",
              "    <div>\n",
              "<style scoped>\n",
              "    .dataframe tbody tr th:only-of-type {\n",
              "        vertical-align: middle;\n",
              "    }\n",
              "\n",
              "    .dataframe tbody tr th {\n",
              "        vertical-align: top;\n",
              "    }\n",
              "\n",
              "    .dataframe thead th {\n",
              "        text-align: right;\n",
              "    }\n",
              "</style>\n",
              "<table border=\"1\" class=\"dataframe\">\n",
              "  <thead>\n",
              "    <tr style=\"text-align: right;\">\n",
              "      <th></th>\n",
              "      <th>label</th>\n",
              "    </tr>\n",
              "  </thead>\n",
              "  <tbody>\n",
              "    <tr>\n",
              "      <th>0</th>\n",
              "      <td>1</td>\n",
              "    </tr>\n",
              "    <tr>\n",
              "      <th>1</th>\n",
              "      <td>0</td>\n",
              "    </tr>\n",
              "    <tr>\n",
              "      <th>2</th>\n",
              "      <td>1</td>\n",
              "    </tr>\n",
              "    <tr>\n",
              "      <th>3</th>\n",
              "      <td>4</td>\n",
              "    </tr>\n",
              "    <tr>\n",
              "      <th>4</th>\n",
              "      <td>0</td>\n",
              "    </tr>\n",
              "    <tr>\n",
              "      <th>...</th>\n",
              "      <td>...</td>\n",
              "    </tr>\n",
              "    <tr>\n",
              "      <th>41995</th>\n",
              "      <td>0</td>\n",
              "    </tr>\n",
              "    <tr>\n",
              "      <th>41996</th>\n",
              "      <td>1</td>\n",
              "    </tr>\n",
              "    <tr>\n",
              "      <th>41997</th>\n",
              "      <td>7</td>\n",
              "    </tr>\n",
              "    <tr>\n",
              "      <th>41998</th>\n",
              "      <td>6</td>\n",
              "    </tr>\n",
              "    <tr>\n",
              "      <th>41999</th>\n",
              "      <td>9</td>\n",
              "    </tr>\n",
              "  </tbody>\n",
              "</table>\n",
              "<p>42000 rows × 1 columns</p>\n",
              "</div>\n",
              "    <div class=\"colab-df-buttons\">\n",
              "\n",
              "  <div class=\"colab-df-container\">\n",
              "    <button class=\"colab-df-convert\" onclick=\"convertToInteractive('df-a2d8df01-db6c-48e9-92e3-b1b1015ef3c3')\"\n",
              "            title=\"Convert this dataframe to an interactive table.\"\n",
              "            style=\"display:none;\">\n",
              "\n",
              "  <svg xmlns=\"http://www.w3.org/2000/svg\" height=\"24px\" viewBox=\"0 -960 960 960\">\n",
              "    <path d=\"M120-120v-720h720v720H120Zm60-500h600v-160H180v160Zm220 220h160v-160H400v160Zm0 220h160v-160H400v160ZM180-400h160v-160H180v160Zm440 0h160v-160H620v160ZM180-180h160v-160H180v160Zm440 0h160v-160H620v160Z\"/>\n",
              "  </svg>\n",
              "    </button>\n",
              "\n",
              "  <style>\n",
              "    .colab-df-container {\n",
              "      display:flex;\n",
              "      gap: 12px;\n",
              "    }\n",
              "\n",
              "    .colab-df-convert {\n",
              "      background-color: #E8F0FE;\n",
              "      border: none;\n",
              "      border-radius: 50%;\n",
              "      cursor: pointer;\n",
              "      display: none;\n",
              "      fill: #1967D2;\n",
              "      height: 32px;\n",
              "      padding: 0 0 0 0;\n",
              "      width: 32px;\n",
              "    }\n",
              "\n",
              "    .colab-df-convert:hover {\n",
              "      background-color: #E2EBFA;\n",
              "      box-shadow: 0px 1px 2px rgba(60, 64, 67, 0.3), 0px 1px 3px 1px rgba(60, 64, 67, 0.15);\n",
              "      fill: #174EA6;\n",
              "    }\n",
              "\n",
              "    .colab-df-buttons div {\n",
              "      margin-bottom: 4px;\n",
              "    }\n",
              "\n",
              "    [theme=dark] .colab-df-convert {\n",
              "      background-color: #3B4455;\n",
              "      fill: #D2E3FC;\n",
              "    }\n",
              "\n",
              "    [theme=dark] .colab-df-convert:hover {\n",
              "      background-color: #434B5C;\n",
              "      box-shadow: 0px 1px 3px 1px rgba(0, 0, 0, 0.15);\n",
              "      filter: drop-shadow(0px 1px 2px rgba(0, 0, 0, 0.3));\n",
              "      fill: #FFFFFF;\n",
              "    }\n",
              "  </style>\n",
              "\n",
              "    <script>\n",
              "      const buttonEl =\n",
              "        document.querySelector('#df-a2d8df01-db6c-48e9-92e3-b1b1015ef3c3 button.colab-df-convert');\n",
              "      buttonEl.style.display =\n",
              "        google.colab.kernel.accessAllowed ? 'block' : 'none';\n",
              "\n",
              "      async function convertToInteractive(key) {\n",
              "        const element = document.querySelector('#df-a2d8df01-db6c-48e9-92e3-b1b1015ef3c3');\n",
              "        const dataTable =\n",
              "          await google.colab.kernel.invokeFunction('convertToInteractive',\n",
              "                                                    [key], {});\n",
              "        if (!dataTable) return;\n",
              "\n",
              "        const docLinkHtml = 'Like what you see? Visit the ' +\n",
              "          '<a target=\"_blank\" href=https://colab.research.google.com/notebooks/data_table.ipynb>data table notebook</a>'\n",
              "          + ' to learn more about interactive tables.';\n",
              "        element.innerHTML = '';\n",
              "        dataTable['output_type'] = 'display_data';\n",
              "        await google.colab.output.renderOutput(dataTable, element);\n",
              "        const docLink = document.createElement('div');\n",
              "        docLink.innerHTML = docLinkHtml;\n",
              "        element.appendChild(docLink);\n",
              "      }\n",
              "    </script>\n",
              "  </div>\n",
              "\n",
              "\n",
              "<div id=\"df-00c5bbad-de04-48e3-b903-202d53b7a129\">\n",
              "  <button class=\"colab-df-quickchart\" onclick=\"quickchart('df-00c5bbad-de04-48e3-b903-202d53b7a129')\"\n",
              "            title=\"Suggest charts.\"\n",
              "            style=\"display:none;\">\n",
              "\n",
              "<svg xmlns=\"http://www.w3.org/2000/svg\" height=\"24px\"viewBox=\"0 0 24 24\"\n",
              "     width=\"24px\">\n",
              "    <g>\n",
              "        <path d=\"M19 3H5c-1.1 0-2 .9-2 2v14c0 1.1.9 2 2 2h14c1.1 0 2-.9 2-2V5c0-1.1-.9-2-2-2zM9 17H7v-7h2v7zm4 0h-2V7h2v10zm4 0h-2v-4h2v4z\"/>\n",
              "    </g>\n",
              "</svg>\n",
              "  </button>\n",
              "\n",
              "<style>\n",
              "  .colab-df-quickchart {\n",
              "      --bg-color: #E8F0FE;\n",
              "      --fill-color: #1967D2;\n",
              "      --hover-bg-color: #E2EBFA;\n",
              "      --hover-fill-color: #174EA6;\n",
              "      --disabled-fill-color: #AAA;\n",
              "      --disabled-bg-color: #DDD;\n",
              "  }\n",
              "\n",
              "  [theme=dark] .colab-df-quickchart {\n",
              "      --bg-color: #3B4455;\n",
              "      --fill-color: #D2E3FC;\n",
              "      --hover-bg-color: #434B5C;\n",
              "      --hover-fill-color: #FFFFFF;\n",
              "      --disabled-bg-color: #3B4455;\n",
              "      --disabled-fill-color: #666;\n",
              "  }\n",
              "\n",
              "  .colab-df-quickchart {\n",
              "    background-color: var(--bg-color);\n",
              "    border: none;\n",
              "    border-radius: 50%;\n",
              "    cursor: pointer;\n",
              "    display: none;\n",
              "    fill: var(--fill-color);\n",
              "    height: 32px;\n",
              "    padding: 0;\n",
              "    width: 32px;\n",
              "  }\n",
              "\n",
              "  .colab-df-quickchart:hover {\n",
              "    background-color: var(--hover-bg-color);\n",
              "    box-shadow: 0 1px 2px rgba(60, 64, 67, 0.3), 0 1px 3px 1px rgba(60, 64, 67, 0.15);\n",
              "    fill: var(--button-hover-fill-color);\n",
              "  }\n",
              "\n",
              "  .colab-df-quickchart-complete:disabled,\n",
              "  .colab-df-quickchart-complete:disabled:hover {\n",
              "    background-color: var(--disabled-bg-color);\n",
              "    fill: var(--disabled-fill-color);\n",
              "    box-shadow: none;\n",
              "  }\n",
              "\n",
              "  .colab-df-spinner {\n",
              "    border: 2px solid var(--fill-color);\n",
              "    border-color: transparent;\n",
              "    border-bottom-color: var(--fill-color);\n",
              "    animation:\n",
              "      spin 1s steps(1) infinite;\n",
              "  }\n",
              "\n",
              "  @keyframes spin {\n",
              "    0% {\n",
              "      border-color: transparent;\n",
              "      border-bottom-color: var(--fill-color);\n",
              "      border-left-color: var(--fill-color);\n",
              "    }\n",
              "    20% {\n",
              "      border-color: transparent;\n",
              "      border-left-color: var(--fill-color);\n",
              "      border-top-color: var(--fill-color);\n",
              "    }\n",
              "    30% {\n",
              "      border-color: transparent;\n",
              "      border-left-color: var(--fill-color);\n",
              "      border-top-color: var(--fill-color);\n",
              "      border-right-color: var(--fill-color);\n",
              "    }\n",
              "    40% {\n",
              "      border-color: transparent;\n",
              "      border-right-color: var(--fill-color);\n",
              "      border-top-color: var(--fill-color);\n",
              "    }\n",
              "    60% {\n",
              "      border-color: transparent;\n",
              "      border-right-color: var(--fill-color);\n",
              "    }\n",
              "    80% {\n",
              "      border-color: transparent;\n",
              "      border-right-color: var(--fill-color);\n",
              "      border-bottom-color: var(--fill-color);\n",
              "    }\n",
              "    90% {\n",
              "      border-color: transparent;\n",
              "      border-bottom-color: var(--fill-color);\n",
              "    }\n",
              "  }\n",
              "</style>\n",
              "\n",
              "  <script>\n",
              "    async function quickchart(key) {\n",
              "      const quickchartButtonEl =\n",
              "        document.querySelector('#' + key + ' button');\n",
              "      quickchartButtonEl.disabled = true;  // To prevent multiple clicks.\n",
              "      quickchartButtonEl.classList.add('colab-df-spinner');\n",
              "      try {\n",
              "        const charts = await google.colab.kernel.invokeFunction(\n",
              "            'suggestCharts', [key], {});\n",
              "      } catch (error) {\n",
              "        console.error('Error during call to suggestCharts:', error);\n",
              "      }\n",
              "      quickchartButtonEl.classList.remove('colab-df-spinner');\n",
              "      quickchartButtonEl.classList.add('colab-df-quickchart-complete');\n",
              "    }\n",
              "    (() => {\n",
              "      let quickchartButtonEl =\n",
              "        document.querySelector('#df-00c5bbad-de04-48e3-b903-202d53b7a129 button');\n",
              "      quickchartButtonEl.style.display =\n",
              "        google.colab.kernel.accessAllowed ? 'block' : 'none';\n",
              "    })();\n",
              "  </script>\n",
              "</div>\n",
              "    </div>\n",
              "  </div>\n"
            ]
          },
          "metadata": {},
          "execution_count": 33
        }
      ]
    },
    {
      "cell_type": "code",
      "source": [
        "g = sns.countplot(yt,x=\"label\")\n",
        "Y_train.value_counts()"
      ],
      "metadata": {
        "colab": {
          "base_uri": "https://localhost:8080/",
          "height": 649
        },
        "id": "mTQMdwFFvYoe",
        "outputId": "a7492d05-8c0d-4501-ff5a-e5e9df30eb63"
      },
      "execution_count": 34,
      "outputs": [
        {
          "output_type": "execute_result",
          "data": {
            "text/plain": [
              "1    4684\n",
              "7    4401\n",
              "3    4351\n",
              "9    4188\n",
              "2    4177\n",
              "6    4137\n",
              "0    4132\n",
              "4    4072\n",
              "8    4063\n",
              "5    3795\n",
              "Name: label, dtype: int64"
            ]
          },
          "metadata": {},
          "execution_count": 34
        },
        {
          "output_type": "display_data",
          "data": {
            "text/plain": [
              "<Figure size 640x480 with 1 Axes>"
            ],
            "image/png": "[encoded data removed]"
          },
          "metadata": {}
        }
      ]
    },
    {
      "cell_type": "markdown",
      "source": [
        "We get similar count for all the 10 digits."
      ],
      "metadata": {
        "id": "NpBnuO01v6m2"
      }
    },
    {
      "cell_type": "markdown",
      "source": [
        "###**Check for NULL and missing value**"
      ],
      "metadata": {
        "id": "tOSO-24Sv_Fi"
      }
    },
    {
      "cell_type": "code",
      "source": [
        "X_train.isnull().any().describe()"
      ],
      "metadata": {
        "colab": {
          "base_uri": "https://localhost:8080/"
        },
        "id": "AavXYz1PwJIh",
        "outputId": "ee56e633-4d9c-462a-fee2-1213f8f41e64"
      },
      "execution_count": 35,
      "outputs": [
        {
          "output_type": "execute_result",
          "data": {
            "text/plain": [
              "count       784\n",
              "unique        1\n",
              "top       False\n",
              "freq        784\n",
              "dtype: object"
            ]
          },
          "metadata": {},
          "execution_count": 35
        }
      ]
    },
    {
      "cell_type": "code",
      "source": [
        "test.isnull().any().describe()"
      ],
      "metadata": {
        "id": "q3x9bJ3vwL94",
        "colab": {
          "base_uri": "https://localhost:8080/"
        },
        "outputId": "c2a5caa8-7847-43f6-d066-451f384117ba"
      },
      "execution_count": 37,
      "outputs": [
        {
          "output_type": "execute_result",
          "data": {
            "text/plain": [
              "count       784\n",
              "unique        1\n",
              "top       False\n",
              "freq        784\n",
              "dtype: object"
            ]
          },
          "metadata": {},
          "execution_count": 37
        }
      ]
    },
    {
      "cell_type": "markdown",
      "source": [
        "There is no null or missing values in the train and test dataset. So we can safely go ahead."
      ],
      "metadata": {
        "id": "x_d1PaQ9wSch"
      }
    },
    {
      "cell_type": "markdown",
      "source": [
        "###**Normalization**"
      ],
      "metadata": {
        "id": "hfR12R6WwUwi"
      }
    },
    {
      "cell_type": "markdown",
      "source": [
        "We perform a grayscale normalization to reduce the effect of illumination's differences.  \n",
        "  \n",
        "Moreover the CNN converg faster on [0..1] data than on [0..255]."
      ],
      "metadata": {
        "id": "1-Wl_hErwYln"
      }
    },
    {
      "cell_type": "code",
      "source": [
        "X_train = X_train / 255.0\n",
        "test = test / 255.0"
      ],
      "metadata": {
        "id": "wZ3Ke5XLwegN"
      },
      "execution_count": 38,
      "outputs": []
    },
    {
      "cell_type": "markdown",
      "source": [
        "###**Reshape**"
      ],
      "metadata": {
        "id": "hSuqjryqwv61"
      }
    },
    {
      "cell_type": "markdown",
      "source": [
        "Reshape image in 3 dimensions (height = 28px, width = 28px , canal = 1)"
      ],
      "metadata": {
        "id": "nF7Qdixiw3I3"
      }
    },
    {
      "cell_type": "code",
      "source": [
        "X_train = X_train.values.reshape(-1,28,28,1)\n",
        "test = test.values.reshape(-1,28,28,1)"
      ],
      "metadata": {
        "id": "Z-uywllNwxvT"
      },
      "execution_count": 39,
      "outputs": []
    },
    {
      "cell_type": "markdown",
      "source": [
        "Train and test images (28px x 28px) has been stock into pandas.Dataframe as 1D vectors of 784 values. We reshape all data to 28x28x1 3D matrices."
      ],
      "metadata": {
        "id": "-s-C7WE4xAZE"
      }
    },
    {
      "cell_type": "markdown",
      "source": [
        "Keras requires an extra dimension in the end which correspond to channels. MNIST images are gray scaled so it use only one channel. For RGB images, there is 3 channels, we would have reshaped 784px vectors to 28x28x3 3D matrices."
      ],
      "metadata": {
        "id": "DvwDHe2axFHx"
      }
    },
    {
      "cell_type": "markdown",
      "source": [
        "###**Label Encoding**"
      ],
      "metadata": {
        "id": "zS-ZYxo_xHD3"
      }
    },
    {
      "cell_type": "markdown",
      "source": [
        "Encode labels to one hot vectors (ex : 2 -> [0,0,1,0,0,0,0,0,0,0])"
      ],
      "metadata": {
        "id": "SsD7ze6lxf6-"
      }
    },
    {
      "cell_type": "code",
      "source": [
        "Y_train = to_categorical(Y_train, num_classes = 10)"
      ],
      "metadata": {
        "id": "i4iEbk4qxiei"
      },
      "execution_count": 40,
      "outputs": []
    },
    {
      "cell_type": "markdown",
      "source": [
        "Labels are 10 digits numbers from 0 to 9. We need to encode these lables to one hot vectors (ex : 2 -> [0,0,1,0,0,0,0,0,0,0])."
      ],
      "metadata": {
        "id": "r0pBqO97xkgm"
      }
    },
    {
      "cell_type": "markdown",
      "source": [
        "###**Split training and valdiation set**"
      ],
      "metadata": {
        "id": "DzfEvNanxqcj"
      }
    },
    {
      "cell_type": "markdown",
      "source": [
        "Split the train and the validation set for the fitting"
      ],
      "metadata": {
        "id": "UXAXcG8kxw9t"
      }
    },
    {
      "cell_type": "code",
      "source": [
        "X_train, X_val, Y_train, Y_val = train_test_split(X_train, Y_train, test_size = 0.1, random_state=2)"
      ],
      "metadata": {
        "id": "KwERO6v6x1xE"
      },
      "execution_count": 42,
      "outputs": []
    },
    {
      "cell_type": "markdown",
      "source": [
        "I chose to split the train set in two parts : a small fraction (10%) became the validation set which the model is evaluated and the rest (90%) is used to train the model."
      ],
      "metadata": {
        "id": "L9j2ipmEyGYR"
      }
    },
    {
      "cell_type": "markdown",
      "source": [
        "Since we have 42000 training images of balanced labels, a random split of the train set doesn't cause some labels to be over represented in the validation set. Be carefull with some unbalanced dataset a simple random split could cause inaccurate evaluation during the validation.\n"
      ],
      "metadata": {
        "id": "Nw7pUdfoyMJO"
      }
    },
    {
      "cell_type": "markdown",
      "source": [
        "We can get a better sense for one of these examples by visualising the image and looking at the label."
      ],
      "metadata": {
        "id": "7EF_KEzeyy1w"
      }
    },
    {
      "cell_type": "code",
      "source": [
        "g = plt.imshow(X_train[0][:,:,0])"
      ],
      "metadata": {
        "id": "NWGAlom2y7Ak",
        "colab": {
          "base_uri": "https://localhost:8080/",
          "height": 434
        },
        "outputId": "9c21dc35-13c4-400a-864d-35eebb162bfc"
      },
      "execution_count": 43,
      "outputs": [
        {
          "output_type": "display_data",
          "data": {
            "text/plain": [
              "<Figure size 640x480 with 1 Axes>"
            ],
            "image/png": "[encoded data removed]"
          },
          "metadata": {}
        }
      ]
    },
    {
      "cell_type": "markdown",
      "source": [
        "##CNN"
      ],
      "metadata": {
        "id": "uNGmL_S80O-Y"
      }
    },
    {
      "cell_type": "markdown",
      "source": [
        "###**Defining the Model**"
      ],
      "metadata": {
        "id": "g4SSbXaK0QGq"
      }
    },
    {
      "cell_type": "markdown",
      "source": [
        "I used the Keras Sequential API, where you have just to add one layer at a time, starting from the input."
      ],
      "metadata": {
        "id": "vvQvEaws0UQW"
      }
    },
    {
      "cell_type": "code",
      "source": [
        "model = Sequential()"
      ],
      "metadata": {
        "id": "44fwmEOs2U-h"
      },
      "execution_count": 44,
      "outputs": []
    },
    {
      "cell_type": "markdown",
      "source": [
        "My CNN architechture is :  \n",
        "<pre>Input  -->  [ [Conv2D->relu] *2  -->  MaxPool2D  -->  Dropout ] *2  -->  Flatten  -->  Dense  -->  Dropout  -->  Output</pre>"
      ],
      "metadata": {
        "id": "VjmwBes20xat"
      }
    },
    {
      "cell_type": "markdown",
      "source": [
        "The first is the convolutional (Conv2D) layer. I chose to set 32 filters for the two firsts conv2D layers. Each filter transforms a part of the image (defined by the kernel size) using the kernel filter. Filters can be seen as a transformation of the image.\n",
        "\n",
        "The CNN can isolate features that are useful everywhere from these transformed images (feature maps)."
      ],
      "metadata": {
        "id": "mESzbSIa2dEg"
      }
    },
    {
      "cell_type": "markdown",
      "source": [
        "'relu' is the rectifier (activation function max(0,x). The rectifier activation function is used to add non linearity to the network."
      ],
      "metadata": {
        "id": "VmRwQIVb3QiS"
      }
    },
    {
      "cell_type": "code",
      "source": [
        "model.add(Conv2D(filters = 32, kernel_size = (5,5),padding = 'Same',\n",
        "                 activation ='relu', input_shape = (28,28,1)))\n",
        "model.add(Conv2D(filters = 32, kernel_size = (5,5),padding = 'Same',\n",
        "                 activation ='relu'))"
      ],
      "metadata": {
        "id": "ZqESUnZU205T"
      },
      "execution_count": 45,
      "outputs": []
    },
    {
      "cell_type": "markdown",
      "source": [
        "The second important layer in CNN is the pooling (MaxPool2D) layer. This layer simply acts as a downsampling filter. It looks at the 2 neighboring pixels and picks the maximal value. These are used to reduce computational cost, and to some extent also reduce overfitting."
      ],
      "metadata": {
        "id": "ilkwJ1__3Bfx"
      }
    },
    {
      "cell_type": "code",
      "source": [
        "model.add(MaxPool2D(pool_size=(2,2)))"
      ],
      "metadata": {
        "id": "eTBrn9S03Dgd"
      },
      "execution_count": 46,
      "outputs": []
    },
    {
      "cell_type": "markdown",
      "source": [
        "Dropout is a regularization method, where a proportion of nodes in the layer are randomly ignored (setting their wieghts to zero) for each training sample. This drops randomly a proportion of the network and forces the network to learn features in a distributed way. This technique also improves generalization and reduces the overfitting."
      ],
      "metadata": {
        "id": "2DMjKWLI3JqQ"
      }
    },
    {
      "cell_type": "code",
      "source": [
        "model.add(Dropout(0.25))"
      ],
      "metadata": {
        "id": "2SW88zQz3Lij"
      },
      "execution_count": 47,
      "outputs": []
    },
    {
      "cell_type": "markdown",
      "source": [
        "Since the architecture contains the above layers two times in sequence, we will add the same layers once more to our model.  \n",
        "But this time the conv2D layers contain 64 filters each."
      ],
      "metadata": {
        "id": "wEopqECS3Wc3"
      }
    },
    {
      "cell_type": "code",
      "source": [
        "model.add(Conv2D(filters = 64, kernel_size = (3,3),padding = 'Same',\n",
        "                 activation ='relu'))\n",
        "model.add(Conv2D(filters = 64, kernel_size = (3,3),padding = 'Same',\n",
        "                 activation ='relu'))\n",
        "model.add(MaxPool2D(pool_size=(2,2), strides=(2,2)))\n",
        "model.add(Dropout(0.25))"
      ],
      "metadata": {
        "id": "pQ0HcsBu33u8"
      },
      "execution_count": 48,
      "outputs": []
    },
    {
      "cell_type": "markdown",
      "source": [
        "The Flatten layer is used to convert the final feature maps into a one single 1D vector. This flattening step is needed so that you can make use of fully connected layers after some convolutional/maxpool layers. It combines all the found local features of the previous convolutional layers."
      ],
      "metadata": {
        "id": "nQjGMeSMRWuX"
      }
    },
    {
      "cell_type": "code",
      "source": [
        "model.add(Flatten())"
      ],
      "metadata": {
        "id": "uuniyC9LRd3s"
      },
      "execution_count": 49,
      "outputs": []
    },
    {
      "cell_type": "markdown",
      "source": [
        "In the end i used the features in two fully-connected (Dense) layers which is just artificial an neural networks (ANN) classifier. In the last layer(Dense(10,activation=\"softmax\")) the net outputs distribution of probability of each class."
      ],
      "metadata": {
        "id": "GG5SeNETRnRQ"
      }
    },
    {
      "cell_type": "code",
      "source": [
        "model.add(Dense(256, activation = \"relu\"))\n",
        "model.add(Dropout(0.5))\n",
        "model.add(Dense(10, activation = \"softmax\"))"
      ],
      "metadata": {
        "id": "bt8DCYswRp4P"
      },
      "execution_count": 50,
      "outputs": []
    },
    {
      "cell_type": "markdown",
      "source": [
        "###**Set the Optimizer and Annealer**"
      ],
      "metadata": {
        "id": "Hvq-R-BBRrsk"
      }
    },
    {
      "cell_type": "markdown",
      "source": [
        "Once our layers are added to the model, we need to set up a score function, a loss function and an optimisation algorithm."
      ],
      "metadata": {
        "id": "qt_JKlrURwL5"
      }
    },
    {
      "cell_type": "markdown",
      "source": [
        "The most important function is the optimizer. This function will iteratively improve parameters in order to minimise the loss.\n",
        "\n",
        "I chose RMSprop as it is a very effective optimizer. The RMSProp update adjusts the Adagrad method in a very simple way in an attempt to reduce its aggressive, monotonically decreasing learning rate. We could also have used Stochastic Gradient Descent optimizer, but it is slower than RMSprop."
      ],
      "metadata": {
        "id": "u2IQSq9kSFQy"
      }
    },
    {
      "cell_type": "code",
      "source": [
        "# Define the optimizer\n",
        "optimizer = RMSprop(lr=0.001, rho=0.9, epsilon=1e-08, decay=0.0)"
      ],
      "metadata": {
        "id": "ONNiRJQASXyH",
        "colab": {
          "base_uri": "https://localhost:8080/"
        },
        "outputId": "3478059c-105f-4680-8fc3-f52f427d68d0"
      },
      "execution_count": 51,
      "outputs": [
        {
          "output_type": "stream",
          "name": "stderr",
          "text": [
            "/usr/local/lib/python3.10/dist-packages/keras/optimizers/legacy/rmsprop.py:143: UserWarning: The `lr` argument is deprecated, use `learning_rate` instead.\n",
            "  super().__init__(name, **kwargs)\n"
          ]
        }
      ]
    },
    {
      "cell_type": "markdown",
      "source": [
        "We define the loss function to measure how poorly our model performs on images with known labels. We use a specific form for categorical classifications called the \"categorical_crossentropy\"."
      ],
      "metadata": {
        "id": "MKdbHoQKR_ch"
      }
    },
    {
      "cell_type": "markdown",
      "source": [
        "The metric function \"accuracy\" is used is to evaluate the performance our model. This metric function is similar to the loss function, except that the results from the metric evaluation are not used when training the model (only for evaluation)."
      ],
      "metadata": {
        "id": "ZcJH48oDSVUV"
      }
    },
    {
      "cell_type": "code",
      "source": [
        "# Compile the model\n",
        "model.compile(optimizer = optimizer , loss = \"categorical_crossentropy\", metrics=[\"accuracy\"])"
      ],
      "metadata": {
        "id": "KG0kRXnnSpgy"
      },
      "execution_count": 52,
      "outputs": []
    },
    {
      "cell_type": "markdown",
      "source": [
        "In order to make the optimizer converge faster and closest to the global minimum of the loss function, i used an annealing method of the learning rate (LR).\n",
        "\n",
        "Its better to have a decreasing learning rate during the training to reach efficiently the global minimum of the loss function.\n",
        "\n",
        "To keep the advantage of the fast computation time with a high LR, i decreased the LR dynamically every X steps (epochs) depending if it is necessary (when accuracy is not improved).\n",
        "\n",
        "With the ReduceLROnPlateau function from Keras.callbacks, i choose to reduce the LR by half if the accuracy is not improved after 2 epochs."
      ],
      "metadata": {
        "id": "VR9nVvvgSzZS"
      }
    },
    {
      "cell_type": "code",
      "source": [
        "# Set a learning rate annealer\n",
        "learning_rate_reduction = ReduceLROnPlateau(monitor='val_acc',\n",
        "                                            patience=2,\n",
        "                                            verbose=1,\n",
        "                                            factor=0.5,\n",
        "                                            min_lr=0.00001)"
      ],
      "metadata": {
        "id": "Ue6PF7lcS2da"
      },
      "execution_count": 53,
      "outputs": []
    },
    {
      "cell_type": "markdown",
      "source": [
        "Setting the hyperparameters"
      ],
      "metadata": {
        "id": "uy_mkGS6S_Fb"
      }
    },
    {
      "cell_type": "code",
      "source": [
        "epochs = 3\n",
        "batch_size = 86"
      ],
      "metadata": {
        "id": "06n4wu6ZTBmg"
      },
      "execution_count": 54,
      "outputs": []
    },
    {
      "cell_type": "markdown",
      "source": [
        "**Fitting the model**"
      ],
      "metadata": {
        "id": "NgRRKY-eUEuN"
      }
    },
    {
      "cell_type": "code",
      "source": [
        "history = model.fit(X_train, Y_train, batch_size = batch_size, epochs = epochs,\n",
        "          validation_data = (X_val, Y_val), verbose = 2)"
      ],
      "metadata": {
        "id": "Xo8FKUGvUHGs",
        "colab": {
          "base_uri": "https://localhost:8080/"
        },
        "outputId": "6b0aaf0a-3343-4aab-c775-bb7ec761909a"
      },
      "execution_count": 55,
      "outputs": [
        {
          "output_type": "stream",
          "name": "stdout",
          "text": [
            "Epoch 1/3\n",
            "440/440 - 346s - loss: 0.2416 - accuracy: 0.9223 - val_loss: 0.0625 - val_accuracy: 0.9800 - 346s/epoch - 786ms/step\n",
            "Epoch 2/3\n",
            "440/440 - 344s - loss: 0.0727 - accuracy: 0.9782 - val_loss: 0.0558 - val_accuracy: 0.9829 - 344s/epoch - 783ms/step\n",
            "Epoch 3/3\n",
            "440/440 - 342s - loss: 0.0566 - accuracy: 0.9834 - val_loss: 0.0389 - val_accuracy: 0.9864 - 342s/epoch - 776ms/step\n"
          ]
        }
      ]
    },
    {
      "cell_type": "markdown",
      "source": [
        "We have achieved an accuracy of 98.64%"
      ],
      "metadata": {
        "id": "SCr9s2r-YUTp"
      }
    },
    {
      "cell_type": "markdown",
      "source": [
        "###**Data Augmentation**"
      ],
      "metadata": {
        "id": "dphfTRikTFWR"
      }
    },
    {
      "cell_type": "markdown",
      "source": [
        "In order to avoid overfitting problem, we need to expand artificially our handwritten digit dataset by altering the training data with small transformations to reproduce the variations occuring when someone is writing a digit.\n",
        "\n",
        "By applying just a couple of transformations to our training data, we can easily double or triple the number of training examples and create a very robust model."
      ],
      "metadata": {
        "id": "wmZZ3eX6TIuA"
      }
    },
    {
      "cell_type": "code",
      "source": [
        "datagen = ImageDataGenerator(\n",
        "        featurewise_center=False,  # set input mean to 0 over the dataset\n",
        "        samplewise_center=False,  # set each sample mean to 0\n",
        "        featurewise_std_normalization=False,  # divide inputs by std of the dataset\n",
        "        samplewise_std_normalization=False,  # divide each input by its std\n",
        "        zca_whitening=False,  # apply ZCA whitening\n",
        "        rotation_range=10,  # randomly rotate images in the range (degrees, 0 to 180)\n",
        "        zoom_range = 0.1, # Randomly zoom image\n",
        "        width_shift_range=0.1,  # randomly shift images horizontally (fraction of total width)\n",
        "        height_shift_range=0.1,  # randomly shift images vertically (fraction of total height)\n",
        "        horizontal_flip=False,  # randomly flip images\n",
        "        vertical_flip=False)  # randomly flip images"
      ],
      "metadata": {
        "id": "Rxcz46wrTrtK"
      },
      "execution_count": 56,
      "outputs": []
    },
    {
      "cell_type": "code",
      "source": [
        "datagen.fit(X_train)"
      ],
      "metadata": {
        "id": "GygqXjS3USCs"
      },
      "execution_count": 57,
      "outputs": []
    },
    {
      "cell_type": "markdown",
      "source": [
        "For the data augmentation, i choosed to :\n",
        "\n",
        "Randomly rotate some training images by 10 degrees  \n",
        "Randomly Zoom by 10% some training images  \n",
        "Randomly shift images horizontally by 10% of the width  \n",
        "Randomly shift images vertically by 10% of the height  \n",
        "I did not apply a vertical_flip nor horizontal_flip since it could have lead to misclassify symetrical numbers such as 6 and 9.\n",
        "\n",
        "Once our model is ready, we fit the training dataset ."
      ],
      "metadata": {
        "id": "ULRaqOoIUUt0"
      }
    },
    {
      "cell_type": "markdown",
      "source": [
        "**Fitting the model**"
      ],
      "metadata": {
        "id": "xFSx9Tl4UaZL"
      }
    },
    {
      "cell_type": "code",
      "source": [
        "history = model.fit_generator(datagen.flow(X_train,Y_train, batch_size=batch_size),\n",
        "                              epochs = epochs, validation_data = (X_val,Y_val),\n",
        "                              verbose = 2, steps_per_epoch=X_train.shape[0] // batch_size\n",
        "                              , callbacks=[learning_rate_reduction])"
      ],
      "metadata": {
        "id": "yedvD-a2UXiJ",
        "colab": {
          "base_uri": "https://localhost:8080/"
        },
        "outputId": "9526f5a8-92a5-4e55-dbf0-de82de03c27c"
      },
      "execution_count": 58,
      "outputs": [
        {
          "output_type": "stream",
          "name": "stdout",
          "text": [
            "Epoch 1/3\n"
          ]
        },
        {
          "output_type": "stream",
          "name": "stderr",
          "text": [
            "<ipython-input-58-00f8d670f626>:1: UserWarning: `Model.fit_generator` is deprecated and will be removed in a future version. Please use `Model.fit`, which supports generators.\n",
            "  history = model.fit_generator(datagen.flow(X_train,Y_train, batch_size=batch_size),\n",
            "WARNING:tensorflow:Learning rate reduction is conditioned on metric `val_acc` which is not available. Available metrics are: loss,accuracy,val_loss,val_accuracy,lr\n"
          ]
        },
        {
          "output_type": "stream",
          "name": "stdout",
          "text": [
            "439/439 - 359s - loss: 0.1351 - accuracy: 0.9595 - val_loss: 0.0383 - val_accuracy: 0.9876 - lr: 0.0010 - 359s/epoch - 818ms/step\n",
            "Epoch 2/3\n"
          ]
        },
        {
          "output_type": "stream",
          "name": "stderr",
          "text": [
            "WARNING:tensorflow:Learning rate reduction is conditioned on metric `val_acc` which is not available. Available metrics are: loss,accuracy,val_loss,val_accuracy,lr\n"
          ]
        },
        {
          "output_type": "stream",
          "name": "stdout",
          "text": [
            "439/439 - 355s - loss: 0.0925 - accuracy: 0.9725 - val_loss: 0.0363 - val_accuracy: 0.9867 - lr: 0.0010 - 355s/epoch - 808ms/step\n",
            "Epoch 3/3\n"
          ]
        },
        {
          "output_type": "stream",
          "name": "stderr",
          "text": [
            "WARNING:tensorflow:Learning rate reduction is conditioned on metric `val_acc` which is not available. Available metrics are: loss,accuracy,val_loss,val_accuracy,lr\n"
          ]
        },
        {
          "output_type": "stream",
          "name": "stdout",
          "text": [
            "439/439 - 359s - loss: 0.0744 - accuracy: 0.9773 - val_loss: 0.0348 - val_accuracy: 0.9902 - lr: 0.0010 - 359s/epoch - 817ms/step\n"
          ]
        }
      ]
    },
    {
      "cell_type": "markdown",
      "source": [
        "We have achieved an accuracy of 99.02%"
      ],
      "metadata": {
        "id": "0wyD5frOYSyE"
      }
    },
    {
      "cell_type": "markdown",
      "source": [
        "The improvement is important :\n",
        "\n",
        "Without data augmentation i obtained an accuracy of 98.64%\n",
        "With data augmentation I achieved 99.02% of accuracy"
      ],
      "metadata": {
        "id": "sSjEF8oaYYU_"
      }
    },
    {
      "cell_type": "markdown",
      "source": [
        "##Evaluate the Model"
      ],
      "metadata": {
        "id": "VMbrDrsyUc7T"
      }
    },
    {
      "cell_type": "markdown",
      "source": [
        "###**Training and Validation Curves**"
      ],
      "metadata": {
        "id": "BwfdXk4xUe_u"
      }
    },
    {
      "cell_type": "markdown",
      "source": [
        "Plot the loss and accuracy curves for training and validation"
      ],
      "metadata": {
        "id": "x_oWNzXbUyji"
      }
    },
    {
      "cell_type": "code",
      "source": [
        "fig, ax = plt.subplots(2,1)\n",
        "ax[0].plot(history.history['loss'], color='b', label=\"Training loss\")\n",
        "ax[0].plot(history.history['val_loss'], color='r', label=\"validation loss\",axes =ax[0])\n",
        "legend = ax[0].legend(loc='best', shadow=True)\n",
        "\n",
        "ax[1].plot(history.history['accuracy'], color='b', label=\"Training accuracy\")\n",
        "ax[1].plot(history.history['val_accuracy'], color='r',label=\"Validation accuracy\")\n",
        "legend = ax[1].legend(loc='best', shadow=True)"
      ],
      "metadata": {
        "id": "IO_IwPbJU0lU",
        "colab": {
          "base_uri": "https://localhost:8080/",
          "height": 434
        },
        "outputId": "5de04519-cc0e-4a7d-e5bd-68db6af04a53"
      },
      "execution_count": 60,
      "outputs": [
        {
          "output_type": "display_data",
          "data": {
            "text/plain": [
              "<Figure size 640x480 with 2 Axes>"
            ],
            "image/png": "[encoded data removed]"
          },
          "metadata": {}
        }
      ]
    },
    {
      "cell_type": "markdown",
      "source": [
        "###**Confusion Matrix**"
      ],
      "metadata": {
        "id": "TG8d3oOBU7tH"
      }
    },
    {
      "cell_type": "markdown",
      "source": [
        "Confusion matrix can be very helpfull to see your model drawbacks.\n",
        "\n",
        "I plot the confusion matrix of the validation results."
      ],
      "metadata": {
        "id": "cwrkocNQVAwx"
      }
    },
    {
      "cell_type": "code",
      "source": [
        "#This function plots the confusion matrix\n",
        "def plot_confusion_matrix(cm, classes,\n",
        "                          normalize=False,\n",
        "                          title='Confusion matrix',\n",
        "                          cmap=plt.cm.Blues):\n",
        "\n",
        "    plt.imshow(cm, interpolation='nearest', cmap=cmap)\n",
        "    plt.title(title)\n",
        "    plt.colorbar()\n",
        "    tick_marks = np.arange(len(classes))\n",
        "    plt.xticks(tick_marks, classes, rotation=45)\n",
        "    plt.yticks(tick_marks, classes)\n",
        "    if normalize:\n",
        "        cm = cm.astype('float') / cm.sum(axis=1)[:, np.newaxis]\n",
        "\n",
        "    thresh = cm.max() / 2.\n",
        "    for i, j in itertools.product(range(cm.shape[0]), range(cm.shape[1])):\n",
        "        plt.text(j, i, cm[i, j],\n",
        "                 horizontalalignment=\"center\",\n",
        "                 color=\"white\" if cm[i, j] > thresh else \"black\")\n",
        "\n",
        "    plt.tight_layout()\n",
        "    plt.ylabel('True label')\n",
        "    plt.xlabel('Predicted label')"
      ],
      "metadata": {
        "id": "w3m1Uq3eVGFX"
      },
      "execution_count": 61,
      "outputs": []
    },
    {
      "cell_type": "markdown",
      "source": [
        "Predict the values from the validation dataset"
      ],
      "metadata": {
        "id": "vsurSwRYYtVo"
      }
    },
    {
      "cell_type": "code",
      "source": [
        "Y_pred = model.predict(X_val)"
      ],
      "metadata": {
        "id": "vP_3vhKGYqKf",
        "colab": {
          "base_uri": "https://localhost:8080/"
        },
        "outputId": "08a08c9f-1643-4492-f99f-6401c5cb103b"
      },
      "execution_count": 62,
      "outputs": [
        {
          "output_type": "stream",
          "name": "stdout",
          "text": [
            "132/132 [==============================] - 9s 64ms/step\n"
          ]
        }
      ]
    },
    {
      "cell_type": "markdown",
      "source": [
        "Convert predictions classes to one hot vectors"
      ],
      "metadata": {
        "id": "6q28AsSQYx4J"
      }
    },
    {
      "cell_type": "code",
      "source": [
        "Y_pred_classes = np.argmax(Y_pred,axis = 1)"
      ],
      "metadata": {
        "id": "eyra5k4mY0WB"
      },
      "execution_count": 63,
      "outputs": []
    },
    {
      "cell_type": "markdown",
      "source": [
        "Convert validation observations to one hot vectors"
      ],
      "metadata": {
        "id": "wlKdie3RY1zs"
      }
    },
    {
      "cell_type": "code",
      "source": [
        "Y_true = np.argmax(Y_val,axis = 1)"
      ],
      "metadata": {
        "id": "_z-L_DWkY4jT"
      },
      "execution_count": 64,
      "outputs": []
    },
    {
      "cell_type": "markdown",
      "source": [
        "Compute the confusion matrix"
      ],
      "metadata": {
        "id": "awh0ZLGZY7jB"
      }
    },
    {
      "cell_type": "code",
      "source": [
        "confusion_mtx = confusion_matrix(Y_true, Y_pred_classes)"
      ],
      "metadata": {
        "id": "vPxG5TMZZCes"
      },
      "execution_count": 65,
      "outputs": []
    },
    {
      "cell_type": "markdown",
      "source": [
        "Plot the confusion matrix"
      ],
      "metadata": {
        "id": "1CRwyRY2ZElw"
      }
    },
    {
      "cell_type": "code",
      "source": [
        "plot_confusion_matrix(confusion_mtx, classes = range(10))"
      ],
      "metadata": {
        "id": "N_ar71MvZKR2",
        "colab": {
          "base_uri": "https://localhost:8080/",
          "height": 504
        },
        "outputId": "282c4078-081a-4b10-b209-7814791d73eb"
      },
      "execution_count": 66,
      "outputs": [
        {
          "output_type": "display_data",
          "data": {
            "text/plain": [
              "<Figure size 640x480 with 2 Axes>"
            ],
            "image/png": "[encoded data removed]"
          },
          "metadata": {}
        }
      ]
    },
    {
      "cell_type": "markdown",
      "source": [
        "Here we can see that our CNN performs very well on all digits with few errors considering the size of the validation set (4200 images).\n",
        "\n",
        "However, it seems that our CNN has some little troubles with the 4 digits, they are misclassified as 9. Sometime it is very difficult to catch the difference between 4 and 9 when curves are smooth."
      ],
      "metadata": {
        "id": "ee4mjCbNVQlZ"
      }
    },
    {
      "cell_type": "markdown",
      "source": [
        "Let's investigate for errors.\n",
        "\n",
        "I want to see the most important errors . For that purpose i need to get the difference between the probabilities of real value and the predicted ones in the results."
      ],
      "metadata": {
        "id": "K_vgEVQTVSto"
      }
    },
    {
      "cell_type": "markdown",
      "source": [
        "Calculate errors"
      ],
      "metadata": {
        "id": "2dUoG-NEZyrz"
      }
    },
    {
      "cell_type": "code",
      "source": [
        "errors = (Y_pred_classes - Y_true != 0)"
      ],
      "metadata": {
        "id": "hJm1POhoZ2FR"
      },
      "execution_count": 67,
      "outputs": []
    },
    {
      "cell_type": "code",
      "source": [
        "Y_pred_classes_errors = Y_pred_classes[errors]"
      ],
      "metadata": {
        "id": "cLKPL2LSZ3yL"
      },
      "execution_count": 68,
      "outputs": []
    },
    {
      "cell_type": "code",
      "source": [
        "Y_pred_errors = Y_pred[errors]"
      ],
      "metadata": {
        "id": "XplOm8WpZ7-C"
      },
      "execution_count": 69,
      "outputs": []
    },
    {
      "cell_type": "markdown",
      "source": [
        "Get true values"
      ],
      "metadata": {
        "id": "Oixnv-yFZ9e_"
      }
    },
    {
      "cell_type": "code",
      "source": [
        "Y_true_errors = Y_true[errors]\n",
        "X_val_errors = X_val[errors]"
      ],
      "metadata": {
        "id": "RxdPZXQpaAt9"
      },
      "execution_count": 70,
      "outputs": []
    },
    {
      "cell_type": "markdown",
      "source": [
        "**Showing 6 images with their predicted and real labels**"
      ],
      "metadata": {
        "id": "wIAp2yY5aG8z"
      }
    },
    {
      "cell_type": "code",
      "source": [
        "def display_errors(errors_index,img_errors,pred_errors, obs_errors):\n",
        "    n = 0\n",
        "    nrows = 2\n",
        "    ncols = 3\n",
        "    fig, ax = plt.subplots(nrows,ncols,sharex=True,sharey=True)\n",
        "    for row in range(nrows):\n",
        "        for col in range(ncols):\n",
        "            error = errors_index[n]\n",
        "            ax[row,col].imshow((img_errors[error]).reshape((28,28)))\n",
        "            ax[row,col].set_title(\"Predicted label :{}\\nTrue label :{}\".format(pred_errors[error],obs_errors[error]))\n",
        "            n += 1"
      ],
      "metadata": {
        "id": "nVqY6QLsVWcy"
      },
      "execution_count": 71,
      "outputs": []
    },
    {
      "cell_type": "markdown",
      "source": [
        "Probabilities of the wrong predicted numbers"
      ],
      "metadata": {
        "id": "zfB8eSxVaZIr"
      }
    },
    {
      "cell_type": "code",
      "source": [
        "Y_pred_errors_prob = np.max(Y_pred_errors,axis = 1)"
      ],
      "metadata": {
        "id": "QM0nStQmacwm"
      },
      "execution_count": 72,
      "outputs": []
    },
    {
      "cell_type": "markdown",
      "source": [
        "Predicted probabilities of the true values in the error set"
      ],
      "metadata": {
        "id": "wL6ufnboajYl"
      }
    },
    {
      "cell_type": "code",
      "source": [
        "true_prob_errors = np.diagonal(np.take(Y_pred_errors, Y_true_errors, axis=1))"
      ],
      "metadata": {
        "id": "kPpixRWOan8U"
      },
      "execution_count": 73,
      "outputs": []
    },
    {
      "cell_type": "markdown",
      "source": [
        "Difference between the probability of the predicted label and the true label"
      ],
      "metadata": {
        "id": "c4bUKm5Zapwi"
      }
    },
    {
      "cell_type": "code",
      "source": [
        "delta_pred_true_errors = Y_pred_errors_prob - true_prob_errors"
      ],
      "metadata": {
        "id": "K5OxsdEqaroP"
      },
      "execution_count": 74,
      "outputs": []
    },
    {
      "cell_type": "markdown",
      "source": [
        "Sorted list of the delta prob errors"
      ],
      "metadata": {
        "id": "tnuU2IJEauz2"
      }
    },
    {
      "cell_type": "code",
      "source": [
        "sorted_dela_errors = np.argsort(delta_pred_true_errors)"
      ],
      "metadata": {
        "id": "EX1H6M7zat1u"
      },
      "execution_count": 75,
      "outputs": []
    },
    {
      "cell_type": "markdown",
      "source": [
        "Top 6 errors\n"
      ],
      "metadata": {
        "id": "ZK58Kq3Ia0CT"
      }
    },
    {
      "cell_type": "code",
      "source": [
        "most_important_errors = sorted_dela_errors[-6:]"
      ],
      "metadata": {
        "id": "FLn5dQK3a2F3"
      },
      "execution_count": 76,
      "outputs": []
    },
    {
      "cell_type": "markdown",
      "source": [
        "Show the top 6 errors"
      ],
      "metadata": {
        "id": "eRFQPn6ga4Ei"
      }
    },
    {
      "cell_type": "code",
      "source": [
        "display_errors(most_important_errors, X_val_errors, Y_pred_classes_errors, Y_true_errors)"
      ],
      "metadata": {
        "id": "RdQguFgXa5rl",
        "colab": {
          "base_uri": "https://localhost:8080/",
          "height": 455
        },
        "outputId": "89df9a51-2768-4c0a-c4a6-b7113b214314"
      },
      "execution_count": 77,
      "outputs": [
        {
          "output_type": "display_data",
          "data": {
            "text/plain": [
              "<Figure size 640x480 with 6 Axes>"
            ],
            "image/png": "[encoded data removed]"
          },
          "metadata": {}
        }
      ]
    },
    {
      "cell_type": "markdown",
      "source": [
        "The most important errors are also the most intrigous.\n",
        "\n",
        "For those six case, the model is not ridiculous. Some of these errors can also be made by humans, especially for one the 9 that is very close to a 4. The last 9 is also very misleading, it seems for me that is a 0."
      ],
      "metadata": {
        "id": "22pFLgvYVd3q"
      }
    },
    {
      "cell_type": "markdown",
      "source": [
        "##Predict and Submit Result"
      ],
      "metadata": {
        "id": "d34Ci7gQcCTI"
      }
    },
    {
      "cell_type": "markdown",
      "source": [
        "**Predict Results**"
      ],
      "metadata": {
        "id": "BKR1aNcibARe"
      }
    },
    {
      "cell_type": "code",
      "source": [
        "results = model.predict(test)"
      ],
      "metadata": {
        "id": "oE4ecsPlVf3n",
        "colab": {
          "base_uri": "https://localhost:8080/"
        },
        "outputId": "02f2f7d2-d3ce-4ecd-d9c6-fc7a9f836255"
      },
      "execution_count": 78,
      "outputs": [
        {
          "output_type": "stream",
          "name": "stdout",
          "text": [
            "875/875 [==============================] - 63s 72ms/step\n"
          ]
        }
      ]
    },
    {
      "cell_type": "code",
      "source": [
        "results"
      ],
      "metadata": {
        "colab": {
          "base_uri": "https://localhost:8080/"
        },
        "id": "zntnTe3VVcG_",
        "outputId": "bb17fc69-e267-41d7-cee8-7e80b83635e8"
      },
      "execution_count": 81,
      "outputs": [
        {
          "output_type": "execute_result",
          "data": {
            "text/plain": [
              "0        2\n",
              "1        0\n",
              "2        9\n",
              "3        0\n",
              "4        3\n",
              "        ..\n",
              "27995    9\n",
              "27996    7\n",
              "27997    3\n",
              "27998    9\n",
              "27999    2\n",
              "Name: Label, Length: 28000, dtype: int64"
            ]
          },
          "metadata": {},
          "execution_count": 81
        }
      ]
    },
    {
      "cell_type": "markdown",
      "source": [
        "Select the indix with the maximum probability"
      ],
      "metadata": {
        "id": "9mF87jqZbGaH"
      }
    },
    {
      "cell_type": "code",
      "source": [
        "results = np.argmax(results,axis = 1)\n",
        "\n",
        "results = pd.Series(results,name=\"Label\")"
      ],
      "metadata": {
        "id": "jZCND77ibJKi"
      },
      "execution_count": 79,
      "outputs": []
    },
    {
      "cell_type": "markdown",
      "source": [
        "**Submit Results**"
      ],
      "metadata": {
        "id": "DNpKVVBIcFCa"
      }
    },
    {
      "cell_type": "code",
      "source": [
        "submission = pd.concat([pd.Series(range(1,10001),name = \"ImageId\"),results],axis = 1)\n",
        "\n",
        "submission.to_csv(\"cnn_mnist_datagen.csv\",index=False)"
      ],
      "metadata": {
        "id": "Rk07sN18Vh4r"
      },
      "execution_count": 80,
      "outputs": []
    },
    {
      "cell_type": "markdown",
      "source": [
        "##Conclusion"
      ],
      "metadata": {
        "id": "jfmhNYuFbmr-"
      }
    },
    {
      "cell_type": "markdown",
      "source": [
        "With this we come to the end of this project.  \n",
        "We were able to sucessfully load the data, perform data preprocessing, create the CNN architecture, augment data and evaluate our model to classify the handwritten digits of the MNIST dataset. We also used RMSProp Optimizer and Annealer to fine tune the learning rate, and achieve the lowest possible error value."
      ],
      "metadata": {
        "id": "93Smt5UdbobS"
      }
    }
  ]
}